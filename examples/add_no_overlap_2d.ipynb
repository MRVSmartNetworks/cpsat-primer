{
 "cells": [
  {
   "cell_type": "markdown",
   "metadata": {},
   "source": [
    "# Using Interval Variables and AddNoOverlap2D constraint for 2D rectangle packing\n",
    "\n",
    "Given a rectangular container and a set of rectangular items, the goal is to pack all items into the container respecting the orientation of items.\n",
    "All rectangles are orthogonal, i.e. they are parallel to the axes of the container.\n",
    "Thus, each item is defined by its length and width.\n",
    "\n",
    "This problem is also known as the 2D bin packing problem and is NP-hard.\n",
    "With CP-SAT, we can easily model this problem and solve smaller instances to optimality."
   ]
  },
  {
   "cell_type": "code",
   "execution_count": 1,
   "metadata": {},
   "outputs": [],
   "source": [
    "from ortools.sat.python import cp_model\n",
    "from ortools.sat.python.cp_model import Constraint"
   ]
  },
  {
   "cell_type": "code",
   "execution_count": 2,
   "metadata": {},
   "outputs": [],
   "source": [
    "# Instance - Need to ensure all elements can fit in the bin, else the solution\n",
    "# will be infeasible\n",
    "container = (40, 15, 20)\n",
    "boxes = [\n",
    "    (11, 3, 4),\n",
    "    (13, 3, 2),\n",
    "    (9, 2, 4),\n",
    "    (7, 2, 6),\n",
    "    (9, 3, 1),\n",
    "    (7, 3, 3),\n",
    "    (11, 2, 3),\n",
    "    (13, 2, 2),\n",
    "    (11, 4, 7),\n",
    "    (13, 4, 6),\n",
    "    (3, 5, 1),\n",
    "    (11, 2, 2),\n",
    "    (2, 2, 3),\n",
    "    (11, 3, 4),\n",
    "    (2, 3, 5),\n",
    "    (5, 4, 5),\n",
    "    (6, 4, 4),\n",
    "    (12, 2, 3),\n",
    "    (1, 2, 2),\n",
    "    (3, 5, 3),\n",
    "    (13, 5, 1),\n",
    "    (12, 4, 4),\n",
    "    (1, 4, 1),\n",
    "    (5, 2, 3),\n",
    "    (6,  2, 1), # add to make tight\n",
    "    #(6, 3, 1), # add to make infeasible\n",
    "]"
   ]
  },
  {
   "cell_type": "code",
   "execution_count": 3,
   "metadata": {},
   "outputs": [],
   "source": [
    "# New overlap definition - redefine cp_model\n",
    "\n",
    "class MyCpModel(cp_model.CpModel):\n",
    "    def MyAddNoOverlap2D(self, x_intervals, y_intervals, z_bool):\n",
    "        \"\"\"\n",
    "        Adds NoOverlap2D(x_intervals, y_intervals).\n",
    "\n",
    "        A NoOverlap2D constraint ensures that all present rectangles do not overlap\n",
    "        on a plane. Each rectangle is aligned with the X and Y axis, and is defined\n",
    "        by two intervals which represent its projection onto the X and Y axis.\n",
    "\n",
    "        TODO: allow constraint to be enforced only if z_bool is True\n",
    "\n",
    "        Args:\n",
    "            x_intervals: The X coordinates of the rectangles.\n",
    "            y_intervals: The Y coordinates of the rectangles.\n",
    "            z_bool: boolean variable specifying if the constraints on the \n",
    "            corresponding ranges in x_intervals and y_intervals have to be \n",
    "            considered\n",
    "\n",
    "        Returns:\n",
    "        An instance of the `Constraint` class.\n",
    "        \"\"\"\n",
    "        ct = Constraint(self)\n",
    "        model_ct = self.__model.constraints[ct.Index()]\n",
    "        model_ct.no_overlap_2d.x_intervals.extend(\n",
    "            [self.GetIntervalIndex(x_intervals[i]) for i in range(len(x_intervals)) if z_bool[i]])\n",
    "        model_ct.no_overlap_2d.y_intervals.extend(\n",
    "            [self.GetIntervalIndex(y_intervals[i]) for i in range(len(y_intervals)) if z_bool[i]])\n",
    "        return ct"
   ]
  },
  {
   "cell_type": "code",
   "execution_count": 4,
   "metadata": {},
   "outputs": [],
   "source": [
    "# model = cp_model.CpModel()\n",
    "model = MyCpModel()"
   ]
  },
  {
   "cell_type": "code",
   "execution_count": 5,
   "metadata": {},
   "outputs": [
    {
     "data": {
      "text/plain": [
       "y_interval_0(start = y1_0, size = 3, end = y1_0 + 3)"
      ]
     },
     "execution_count": 5,
     "metadata": {},
     "output_type": "execute_result"
    }
   ],
   "source": [
    "# We have to create the variable for the bottom left corner of the boxes.\n",
    "# We directly limit their range, such that the boxes are inside the container\n",
    "x_vars = [\n",
    "    model.NewIntVar(0, container[0] - box[0], name=f\"x1_{i}\")\n",
    "    for i, box in enumerate(boxes)\n",
    "]\n",
    "y_vars = [\n",
    "    model.NewIntVar(0, container[1] - box[1], name=f\"y1_{i}\")\n",
    "    for i, box in enumerate(boxes)\n",
    "]\n",
    "\n",
    "# Interval variables are actually more like constraint containers, that are then\n",
    "# passed to the no overlap constraint\n",
    "# NOTE: we could also make size and end variables, but we don't need them here\n",
    "x_interval_vars = [\n",
    "    model.NewIntervalVar(\n",
    "        start=x_vars[i], size=box[0], end=x_vars[i] + box[0], name=f\"x_interval_{i}\"\n",
    "    )\n",
    "    for i, box in enumerate(boxes)\n",
    "]\n",
    "y_interval_vars = [\n",
    "    model.NewIntervalVar(\n",
    "        start=y_vars[i], size=box[1], end=y_vars[i] + box[1], name=f\"y_interval_{i}\"\n",
    "    )\n",
    "    for i, box in enumerate(boxes)\n",
    "]\n",
    "\n",
    "y_interval_vars[0]"
   ]
  },
  {
   "cell_type": "code",
   "execution_count": 6,
   "metadata": {},
   "outputs": [
    {
     "data": {
      "text/plain": [
       "<ortools.sat.python.cp_model.Constraint at 0x1218adc10>"
      ]
     },
     "execution_count": 6,
     "metadata": {},
     "output_type": "execute_result"
    }
   ],
   "source": [
    "# Weight constraint\n",
    "z_vars = [model.NewBoolVar(f\"z_{i}\") for i in range(len(boxes))]\n",
    "model.Add(sum(z_vars[i] * box[2] for i, box in enumerate(boxes)) <= container[2])"
   ]
  },
  {
   "cell_type": "code",
   "execution_count": 7,
   "metadata": {},
   "outputs": [
    {
     "ename": "AttributeError",
     "evalue": "'MyCpModel' object has no attribute '_MyCpModel__model'",
     "output_type": "error",
     "traceback": [
      "\u001b[0;31m---------------------------------------------------------------------------\u001b[0m",
      "\u001b[0;31mAttributeError\u001b[0m                            Traceback (most recent call last)",
      "\u001b[1;32m/Users/dmacario/github/MRVSmartNetworks/cpsat-primer/examples/add_no_overlap_2d.ipynb Cell 8\u001b[0m line \u001b[0;36m1\n\u001b[0;32m----> <a href='vscode-notebook-cell:/Users/dmacario/github/MRVSmartNetworks/cpsat-primer/examples/add_no_overlap_2d.ipynb#X20sZmlsZQ%3D%3D?line=0'>1</a>\u001b[0m model\u001b[39m.\u001b[39;49mMyAddNoOverlap2D(x_interval_vars, y_interval_vars, z_vars)\n",
      "\u001b[1;32m/Users/dmacario/github/MRVSmartNetworks/cpsat-primer/examples/add_no_overlap_2d.ipynb Cell 8\u001b[0m line \u001b[0;36m2\n\u001b[1;32m      <a href='vscode-notebook-cell:/Users/dmacario/github/MRVSmartNetworks/cpsat-primer/examples/add_no_overlap_2d.ipynb#X20sZmlsZQ%3D%3D?line=4'>5</a>\u001b[0m \u001b[39m\u001b[39m\u001b[39m\"\"\"\u001b[39;00m\n\u001b[1;32m      <a href='vscode-notebook-cell:/Users/dmacario/github/MRVSmartNetworks/cpsat-primer/examples/add_no_overlap_2d.ipynb#X20sZmlsZQ%3D%3D?line=5'>6</a>\u001b[0m \u001b[39mAdds NoOverlap2D(x_intervals, y_intervals).\u001b[39;00m\n\u001b[1;32m      <a href='vscode-notebook-cell:/Users/dmacario/github/MRVSmartNetworks/cpsat-primer/examples/add_no_overlap_2d.ipynb#X20sZmlsZQ%3D%3D?line=6'>7</a>\u001b[0m \n\u001b[0;32m   (...)\u001b[0m\n\u001b[1;32m     <a href='vscode-notebook-cell:/Users/dmacario/github/MRVSmartNetworks/cpsat-primer/examples/add_no_overlap_2d.ipynb#X20sZmlsZQ%3D%3D?line=21'>22</a>\u001b[0m \u001b[39mAn instance of the `Constraint` class.\u001b[39;00m\n\u001b[1;32m     <a href='vscode-notebook-cell:/Users/dmacario/github/MRVSmartNetworks/cpsat-primer/examples/add_no_overlap_2d.ipynb#X20sZmlsZQ%3D%3D?line=22'>23</a>\u001b[0m \u001b[39m\"\"\"\u001b[39;00m\n\u001b[1;32m     <a href='vscode-notebook-cell:/Users/dmacario/github/MRVSmartNetworks/cpsat-primer/examples/add_no_overlap_2d.ipynb#X20sZmlsZQ%3D%3D?line=23'>24</a>\u001b[0m ct \u001b[39m=\u001b[39m Constraint(\u001b[39mself\u001b[39m)\n\u001b[0;32m---> <a href='vscode-notebook-cell:/Users/dmacario/github/MRVSmartNetworks/cpsat-primer/examples/add_no_overlap_2d.ipynb#X20sZmlsZQ%3D%3D?line=24'>25</a>\u001b[0m model_ct \u001b[39m=\u001b[39m \u001b[39mself\u001b[39;49m\u001b[39m.\u001b[39;49m__model\u001b[39m.\u001b[39mconstraints[ct\u001b[39m.\u001b[39mIndex()]\n\u001b[1;32m     <a href='vscode-notebook-cell:/Users/dmacario/github/MRVSmartNetworks/cpsat-primer/examples/add_no_overlap_2d.ipynb#X20sZmlsZQ%3D%3D?line=25'>26</a>\u001b[0m model_ct\u001b[39m.\u001b[39mno_overlap_2d\u001b[39m.\u001b[39mx_intervals\u001b[39m.\u001b[39mextend(\n\u001b[1;32m     <a href='vscode-notebook-cell:/Users/dmacario/github/MRVSmartNetworks/cpsat-primer/examples/add_no_overlap_2d.ipynb#X20sZmlsZQ%3D%3D?line=26'>27</a>\u001b[0m     [\u001b[39mself\u001b[39m\u001b[39m.\u001b[39mGetIntervalIndex(x_intervals[i]) \u001b[39mfor\u001b[39;00m i \u001b[39min\u001b[39;00m \u001b[39mrange\u001b[39m(\u001b[39mlen\u001b[39m(x_intervals)) \u001b[39mif\u001b[39;00m z_bool[i]])\n\u001b[1;32m     <a href='vscode-notebook-cell:/Users/dmacario/github/MRVSmartNetworks/cpsat-primer/examples/add_no_overlap_2d.ipynb#X20sZmlsZQ%3D%3D?line=27'>28</a>\u001b[0m model_ct\u001b[39m.\u001b[39mno_overlap_2d\u001b[39m.\u001b[39my_intervals\u001b[39m.\u001b[39mextend(\n\u001b[1;32m     <a href='vscode-notebook-cell:/Users/dmacario/github/MRVSmartNetworks/cpsat-primer/examples/add_no_overlap_2d.ipynb#X20sZmlsZQ%3D%3D?line=28'>29</a>\u001b[0m     [\u001b[39mself\u001b[39m\u001b[39m.\u001b[39mGetIntervalIndex(y_intervals[i]) \u001b[39mfor\u001b[39;00m i \u001b[39min\u001b[39;00m \u001b[39mrange\u001b[39m(\u001b[39mlen\u001b[39m(y_intervals)) \u001b[39mif\u001b[39;00m z_bool[i]])\n",
      "\u001b[0;31mAttributeError\u001b[0m: 'MyCpModel' object has no attribute '_MyCpModel__model'"
     ]
    }
   ],
   "source": [
    "model.MyAddNoOverlap2D(x_interval_vars, y_interval_vars, z_vars)"
   ]
  },
  {
   "cell_type": "code",
   "execution_count": 13,
   "metadata": {},
   "outputs": [],
   "source": [
    "# Enforce that no two rectangles overlap, only if they are considered (weight \n",
    "# constraint)\n",
    "\n",
    "for i in range(len(boxes)):\n",
    "    model.AddNoOverlap2D(\n",
    "        [x_interval_vars[i]], [y_interval_vars[i]],\n",
    "    ).OnlyEnforceIf(z_vars[i])"
   ]
  },
  {
   "cell_type": "code",
   "execution_count": 113,
   "metadata": {},
   "outputs": [],
   "source": [
    "for i, box in enumerate(boxes):\n",
    "    model.Add(x_vars[i] == -2).OnlyEnforceIf(z_vars[i])\n",
    "    model.Add(y_vars[i] == -2).OnlyEnforceIf(z_vars[i])\n"
   ]
  },
  {
   "cell_type": "code",
   "execution_count": 14,
   "metadata": {},
   "outputs": [],
   "source": [
    "box_areas = [box[0]*box[1] for box in boxes]\n",
    "model.Maximize(sum(z_vars[i] * box_areas[i] for i in range(len(boxes))))"
   ]
  },
  {
   "cell_type": "code",
   "execution_count": 16,
   "metadata": {},
   "outputs": [
    {
     "name": "stdout",
     "output_type": "stream",
     "text": [
      "\n",
      "\n",
      "Starting CP-SAT solver v9.6.2534\n",
      "Starting CP-SAT solver v9.6.2534\n",
      "Parameters: log_search_progress: true\n",
      "Setting number of workers to 10\n",
      "Parameters: log_search_progress: true\n",
      "Setting number of workers to 10\n",
      "Invalid model: Enforcement literal not supported in constraint: enforcement_literal: 176 no_overlap_2d { x_intervals: 204 y_intervals: 254 }\n",
      "Invalid model: Enforcement literal not supported in constraint: enforcement_literal: 176 no_overlap_2d { x_intervals: 204 y_intervals: 254 }\n",
      "\n",
      "\n",
      "CpSolverResponse summary:\n",
      "status: MODEL_INVALID\n",
      "objective: 0\n",
      "best_bound: 0\n",
      "integers: 0\n",
      "booleans: 0\n",
      "conflicts: 0\n",
      "branches: 0\n",
      "propagations: 0\n",
      "integer_propagations: 0\n",
      "restarts: 0\n",
      "lp_iterations: 0\n",
      "walltime: 0.000945\n",
      "usertime: 0.000945\n",
      "deterministic_time: 0\n",
      "gap_integral: 0\n",
      "\n",
      "CpSolverResponse summary:\n",
      "status: MODEL_INVALID\n",
      "objective: 0\n",
      "best_bound: 0\n",
      "integers: 0\n",
      "booleans: 0\n",
      "conflicts: 0\n",
      "branches: 0\n",
      "propagations: 0\n",
      "integer_propagations: 0\n",
      "restarts: 0\n",
      "lp_iterations: 0\n",
      "walltime: 0.000945\n",
      "usertime: 0.000945\n",
      "deterministic_time: 0\n",
      "gap_integral: 0\n",
      "\n"
     ]
    },
    {
     "ename": "AssertionError",
     "evalue": "",
     "output_type": "error",
     "traceback": [
      "\u001b[0;31m---------------------------------------------------------------------------\u001b[0m",
      "\u001b[0;31mAssertionError\u001b[0m                            Traceback (most recent call last)",
      "\u001b[1;32m/Users/dmacario/github/MRVSmartNetworks/cpsat-primer/examples/add_no_overlap_2d.ipynb Cell 10\u001b[0m line \u001b[0;36m6\n\u001b[1;32m      <a href='vscode-notebook-cell:/Users/dmacario/github/MRVSmartNetworks/cpsat-primer/examples/add_no_overlap_2d.ipynb#X11sZmlsZQ%3D%3D?line=3'>4</a>\u001b[0m solver\u001b[39m.\u001b[39mlog_callback \u001b[39m=\u001b[39m \u001b[39mprint\u001b[39m\n\u001b[1;32m      <a href='vscode-notebook-cell:/Users/dmacario/github/MRVSmartNetworks/cpsat-primer/examples/add_no_overlap_2d.ipynb#X11sZmlsZQ%3D%3D?line=4'>5</a>\u001b[0m status \u001b[39m=\u001b[39m solver\u001b[39m.\u001b[39mSolve(model)\n\u001b[0;32m----> <a href='vscode-notebook-cell:/Users/dmacario/github/MRVSmartNetworks/cpsat-primer/examples/add_no_overlap_2d.ipynb#X11sZmlsZQ%3D%3D?line=5'>6</a>\u001b[0m \u001b[39massert\u001b[39;00m status \u001b[39m==\u001b[39m cp_model\u001b[39m.\u001b[39mOPTIMAL\n\u001b[1;32m      <a href='vscode-notebook-cell:/Users/dmacario/github/MRVSmartNetworks/cpsat-primer/examples/add_no_overlap_2d.ipynb#X11sZmlsZQ%3D%3D?line=6'>7</a>\u001b[0m w_boxes \u001b[39m=\u001b[39m []\n\u001b[1;32m      <a href='vscode-notebook-cell:/Users/dmacario/github/MRVSmartNetworks/cpsat-primer/examples/add_no_overlap_2d.ipynb#X11sZmlsZQ%3D%3D?line=7'>8</a>\u001b[0m \u001b[39mfor\u001b[39;00m i, box \u001b[39min\u001b[39;00m \u001b[39menumerate\u001b[39m(boxes):\n",
      "\u001b[0;31mAssertionError\u001b[0m: "
     ]
    }
   ],
   "source": [
    "# Solve!\n",
    "solver = cp_model.CpSolver()\n",
    "solver.parameters.log_search_progress = True\n",
    "solver.log_callback = print\n",
    "status = solver.Solve(model)\n",
    "assert status == cp_model.OPTIMAL\n",
    "w_boxes = []\n",
    "for i, box in enumerate(boxes):\n",
    "    if solver.Value(z_vars[i]) == 1:\n",
    "        print(\n",
    "            f\"box {i} \"\n",
    "        )\n",
    "        w_boxes.append(box)"
   ]
  },
  {
   "cell_type": "code",
   "execution_count": 125,
   "metadata": {},
   "outputs": [
    {
     "name": "stdout",
     "output_type": "stream",
     "text": [
      "z_0 = 0\n",
      "z_1 = 1\n",
      "z_2 = 0\n",
      "z_3 = 0\n",
      "z_4 = 1\n",
      "z_5 = 0\n",
      "z_6 = 0\n",
      "z_7 = 1\n",
      "z_8 = 0\n",
      "z_9 = 1\n",
      "z_10 = 1\n",
      "z_11 = 1\n",
      "z_12 = 0\n",
      "z_13 = 0\n",
      "z_14 = 0\n",
      "z_15 = 0\n",
      "z_16 = 0\n",
      "z_17 = 0\n",
      "z_18 = 0\n",
      "z_19 = 0\n",
      "z_20 = 1\n",
      "z_21 = 1\n",
      "z_22 = 0\n",
      "z_23 = 0\n",
      "z_24 = 1\n"
     ]
    }
   ],
   "source": [
    "for i in range(len(z_vars)):\n",
    "    print(f\"z_{i} = {solver.Value(z_vars[i])}\")"
   ]
  },
  {
   "cell_type": "code",
   "execution_count": 127,
   "metadata": {},
   "outputs": [
    {
     "data": {
      "image/png": "[encoded data removed]",
      "text/plain": [
       "<Figure size 640x480 with 1 Axes>"
      ]
     },
     "metadata": {},
     "output_type": "display_data"
    }
   ],
   "source": [
    "# plot the solution\n",
    "import matplotlib.pyplot as plt\n",
    "import matplotlib.patches as patches\n",
    "\n",
    "fig, ax = plt.subplots(1)\n",
    "ax.set_xlim(0, container[0])\n",
    "ax.set_ylim(0, container[1])\n",
    "for i, box in enumerate(boxes):\n",
    "    if solver.Value(z_vars[i]) > 0:\n",
    "        ax.add_patch(\n",
    "            patches.Rectangle(\n",
    "                (solver.Value(x_vars[i]), solver.Value(y_vars[i])),\n",
    "                box[0],\n",
    "                box[1],\n",
    "                facecolor=\"blue\",\n",
    "                alpha=0.2,\n",
    "                edgecolor=\"b\",\n",
    "            )\n",
    "        )\n",
    "# uniform axis\n",
    "ax.set_aspect(\"equal\", adjustable=\"box\")\n",
    "plt.show()"
   ]
  }
 ],
 "metadata": {
  "kernelspec": {
   "display_name": "mo",
   "language": "python",
   "name": "python3"
  },
  "language_info": {
   "codemirror_mode": {
    "name": "ipython",
    "version": 3
   },
   "file_extension": ".py",
   "mimetype": "text/x-python",
   "name": "python",
   "nbconvert_exporter": "python",
   "pygments_lexer": "ipython3",
   "version": "3.11.6"
  },
  "orig_nbformat": 4
 },
 "nbformat": 4,
 "nbformat_minor": 2
}
